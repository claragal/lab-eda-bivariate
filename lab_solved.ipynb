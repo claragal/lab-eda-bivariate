{
 "cells": [
  {
   "cell_type": "code",
   "execution_count": null,
   "metadata": {},
   "outputs": [],
   "source": [
    "import pandas as pd\n",
    "import scipy.stats as stats\n",
    "import numpy as np\n",
    "import matplotlib.pyplot as plt\n",
    "import seaborn as sns\n",
    "from scipy.stats import pearsonr\n",
    "from scipy.stats.contingency import association"
   ]
  },
  {
   "cell_type": "code",
   "execution_count": null,
   "metadata": {},
   "outputs": [],
   "source": [
    "amazon_data = \"C:/Users/Pc/Desktop/Ironhack/Labs/lab-eda-bivariate/amz_uk_price_prediction_dataset.csv\"\n",
    "amz_df = pd.read_csv(amazon_data)\n",
    "amz_df.head()"
   ]
  },
  {
   "cell_type": "markdown",
   "metadata": {},
   "source": [
    "Part 1: Analyzing Best-Seller Trends Across Product Categories\n",
    "1. Crosstab Analysis:"
   ]
  },
  {
   "cell_type": "code",
   "execution_count": null,
   "metadata": {},
   "outputs": [],
   "source": [
    "# Calculate the crosstab between category and best-seller status\n",
    "crosstab = pd.crosstab(amz_df['category'], amz_df['isBestSeller'])\n",
    "\n",
    "# Display the crosstab\n",
    "print(crosstab)\n",
    "\n",
    "# Calculate the proportion of best-sellers for each category\n",
    "crosstab['Proportion Best-Seller'] = crosstab[True] / crosstab.sum(axis=1)\n",
    "\n",
    "# Sort the categories by the proportion of best-sellers in descending order\n",
    "crosstab_sorted = crosstab.sort_values('Proportion Best-Seller', ascending=False)\n",
    "\n",
    "# Display the sorted result\n",
    "print(crosstab_sorted)"
   ]
  },
  {
   "cell_type": "markdown",
   "metadata": {},
   "source": [
    "The category with the highest proportion of best-sellers is 'Grocery'"
   ]
  },
  {
   "cell_type": "markdown",
   "metadata": {},
   "source": [
    "2. Statistical Tests (Chi-Square and Cramér's V):"
   ]
  },
  {
   "cell_type": "code",
   "execution_count": null,
   "metadata": {},
   "outputs": [],
   "source": [
    "# Chi-square test\n",
    "chi2, p, _, _ = stats.chi2_contingency(crosstab)\n",
    "\n",
    "# Print the results of the Chi-square test\n",
    "print(f\"Chi-square statistic: {chi2}\")\n",
    "print(f\"P-value: {p}\")\n",
    "\n",
    "# Compute Cramér's V using association()\n",
    "cramers_v = association(crosstab.iloc[:, :-1].values, method=\"cramer\")  # Convert to NumPy array\n",
    "print(f\"Cramér's V: {cramers_v}\")\n"
   ]
  },
  {
   "cell_type": "markdown",
   "metadata": {},
   "source": [
    "Chi-square: The relationship between the category and the best-seller distrubution is statistically significant, so it is not independent.  \n",
    "\n",
    "Cramér's V: is a measure of the strength of association between two categorical variables, ranging from 0 to 1:In this case, Cramér's V: 0.1222829439760564, which indicates a weak association between the two variables, despite the large chi-square statistic and significant p-value."
   ]
  },
  {
   "cell_type": "markdown",
   "metadata": {},
   "source": [
    "3. Visualizations:"
   ]
  },
  {
   "cell_type": "code",
   "execution_count": null,
   "metadata": {},
   "outputs": [],
   "source": [
    "# Create a crosstab to count the number of best-sellers vs non-best-sellers by category\n",
    "category_best_seller = pd.crosstab(amz_df['category'], amz_df['isBestSeller'])\n",
    "print (category_best_seller)"
   ]
  },
  {
   "cell_type": "code",
   "execution_count": null,
   "metadata": {},
   "outputs": [],
   "source": [
    "# Calculate the proportion of best-sellers for each category\n",
    "category_best_seller['Proportion Best-Seller'] = category_best_seller[True] / category_best_seller.sum(axis=1)\n",
    "\n",
    "# Sort categories by the proportion of best-sellers in descending order\n",
    "category_best_seller_sorted = category_best_seller.sort_values('Proportion Best-Seller', ascending=False)\n",
    "\n",
    "# Select the top N categories (e.g., top 20)\n",
    "top_n = 20\n",
    "top_categories = category_best_seller_sorted.head(top_n)\n",
    "\n",
    "# Plotting a horizontal bar chart for the top N categories with the highest proportion of best-sellers\n",
    "plt.figure(figsize=(10, 8))\n",
    "top_categories['Proportion Best-Seller'].plot(kind='barh', color='salmon')\n",
    "\n",
    "# Customize the plot\n",
    "plt.title(f'Top {top_n} Categories by Proportion of Best-Sellers', fontsize=16)\n",
    "plt.xlabel('Proportion of Best-Sellers', fontsize=12)\n",
    "plt.ylabel('Product Category', fontsize=12)\n",
    "\n",
    "# Reverse the Y-axis to have the highest at the top\n",
    "plt.gca().invert_yaxis()\n",
    "\n",
    "# Adjust layout for a better fit\n",
    "plt.tight_layout()\n",
    "\n",
    "# Show the plot\n",
    "plt.show()"
   ]
  },
  {
   "cell_type": "markdown",
   "metadata": {},
   "source": [
    "Part 2: Exploring Product Prices and Ratings Across Categories and Brands\n",
    "    \n",
    "    0. Preliminary Step: Remove outliers in product prices."
   ]
  },
  {
   "cell_type": "code",
   "execution_count": null,
   "metadata": {},
   "outputs": [],
   "source": [
    "# Calculate Q1 (25th percentile) and Q3 (75th percentile) for the 'price' column\n",
    "Q1 = amz_df['price'].quantile(0.25)\n",
    "Q3 = amz_df['price'].quantile(0.75)\n",
    "\n",
    "# Calculate the IQR (Interquartile Range)\n",
    "IQR = Q3 - Q1\n",
    "\n",
    "# Calculate the lower and upper bounds for outliers\n",
    "lower_bound = Q1 - 1.5 * IQR\n",
    "upper_bound = Q3 + 1.5 * IQR\n",
    "\n",
    "# Remove rows where the 'price' is below the lower bound or above the upper bound\n",
    "amz_df_no_outliers = amz_df[(amz_df['price'] >= lower_bound) & (amz_df['price'] <= upper_bound)]\n",
    "\n",
    "# Show the new dataframe with outliers removed\n",
    "amz_df_no_outliers.head()"
   ]
  },
  {
   "cell_type": "markdown",
   "metadata": {},
   "source": [
    "1. Violin plots"
   ]
  },
  {
   "cell_type": "code",
   "execution_count": null,
   "metadata": {},
   "outputs": [],
   "source": [
    "# Filter the top 20 categories based on count (number of products) in the outlier-free dataset\n",
    "top_20_categories = amz_df_no_outliers['category'].value_counts().nlargest(20).index\n",
    "filtered_data_no_outliers = amz_df_no_outliers[amz_df_no_outliers['category'].isin(top_20_categories)]\n",
    "\n",
    "# Create the violin plot for price distribution across the top 20 categories (outlier-free dataset)\n",
    "plt.figure(figsize=(12, 8))\n",
    "sns.violinplot(data=filtered_data_no_outliers, x='category', y='price', palette='muted')\n",
    "\n",
    "# Customize the plot\n",
    "plt.title('Price Distribution Across Top 20 Categories (Outlier-Free)', fontsize=16)\n",
    "plt.xlabel('Product Category', fontsize=12)\n",
    "plt.ylabel('Price', fontsize=12)\n",
    "plt.xticks(rotation=90)  # Rotate x-axis labels for better readability\n",
    "plt.tight_layout()\n",
    "\n",
    "# Show the plot\n",
    "plt.show()\n"
   ]
  },
  {
   "cell_type": "code",
   "execution_count": null,
   "metadata": {},
   "outputs": [],
   "source": [
    "# Group by 'category' and calculate the median price for each category\n",
    "median_prices_by_category = amz_df_no_outliers.groupby('category')['price'].median()\n",
    "\n",
    "# Sort the categories by the median price in descending order\n",
    "median_prices_sorted = median_prices_by_category.sort_values(ascending=False)\n",
    "\n",
    "# Convert to a DataFrame for better readability\n",
    "median_prices_table = median_prices_sorted.reset_index()\n",
    "median_prices_table.columns = ['Category', 'Median Price']\n",
    "\n",
    "# Display the table\n",
    "print(median_prices_table)"
   ]
  },
  {
   "cell_type": "markdown",
   "metadata": {},
   "source": [
    "Desktop PCs is the category with the highest median price"
   ]
  },
  {
   "cell_type": "markdown",
   "metadata": {},
   "source": [
    "2. Bar charts"
   ]
  },
  {
   "cell_type": "code",
   "execution_count": null,
   "metadata": {},
   "outputs": [],
   "source": [
    "# Get the top 10 categories based on count (number of products) in the outlier-free dataset\n",
    "top_10_categories = amz_df_no_outliers['category'].value_counts().nlargest(10).index\n",
    "top_10_data_no_outliers = amz_df_no_outliers[amz_df_no_outliers['category'].isin(top_10_categories)]"
   ]
  },
  {
   "cell_type": "code",
   "execution_count": null,
   "metadata": {},
   "outputs": [],
   "source": [
    "# Calculate the average price for each of the top 10 categories\n",
    "avg_price_by_category = top_10_data_no_outliers.groupby('category')['price'].mean().sort_values(ascending=False)"
   ]
  },
  {
   "cell_type": "code",
   "execution_count": null,
   "metadata": {},
   "outputs": [],
   "source": [
    "# Create the bar chart comparing the average price for the top 10 categories\n",
    "plt.figure(figsize=(12, 8))\n",
    "sns.barplot(x=avg_price_by_category.index, y=avg_price_by_category.values, palette='viridis')\n",
    "\n",
    "# Customize the plot\n",
    "plt.title('Average Price by Product Category (Top 10)', fontsize=16)\n",
    "plt.xlabel('Product Category', fontsize=12)\n",
    "plt.ylabel('Average Price', fontsize=12)\n",
    "plt.xticks(rotation=45)  # Rotate x-axis labels for better readability\n",
    "plt.tight_layout()\n",
    "\n",
    "# Show the plot\n",
    "plt.show()"
   ]
  },
  {
   "cell_type": "code",
   "execution_count": null,
   "metadata": {},
   "outputs": [],
   "source": [
    "# Identify the category with the highest average price\n",
    "highest_avg_price_category = avg_price_by_category.idxmax()\n",
    "highest_avg_price = avg_price_by_category.max()\n",
    "\n",
    "print(f\"The product category with the highest average price is '{highest_avg_price_category}' with an average price of {highest_avg_price:.2f}\")"
   ]
  },
  {
   "cell_type": "markdown",
   "metadata": {},
   "source": [
    "3. Box plots"
   ]
  },
  {
   "cell_type": "code",
   "execution_count": null,
   "metadata": {},
   "outputs": [],
   "source": [
    "# Get the top 10 categories based on count (number of products) in the outlier-free dataset\n",
    "top_10_categories = amz_df_no_outliers['category'].value_counts().nlargest(10).index\n",
    "top_10_data_no_outliers = amz_df_no_outliers[amz_df_no_outliers['category'].isin(top_10_categories)]"
   ]
  },
  {
   "cell_type": "code",
   "execution_count": null,
   "metadata": {},
   "outputs": [],
   "source": [
    "# Create the box plot for ratings across the top 10 categories\n",
    "plt.figure(figsize=(12, 8))\n",
    "sns.boxplot(x='category', y='stars', data=top_10_data_no_outliers, palette='muted')\n",
    "\n",
    "# Customize the plot\n",
    "plt.title('Distribution of Ratings Across Top 10 Categories', fontsize=16)\n",
    "plt.xlabel('Product Category', fontsize=12)\n",
    "plt.ylabel('Product Rating (Stars)', fontsize=12)\n",
    "plt.xticks(rotation=45)  # Rotate x-axis labels for better readability\n",
    "plt.tight_layout()\n",
    "\n",
    "# Show the plot\n",
    "plt.show()"
   ]
  },
  {
   "cell_type": "code",
   "execution_count": null,
   "metadata": {},
   "outputs": [],
   "source": [
    "# Calculate the median rating for each of the top 10 categories\n",
    "median_rating_by_category = top_10_data_no_outliers.groupby('category')['stars'].median().sort_values(ascending=False)\n",
    "\n",
    "# Identify the category with the highest median rating\n",
    "highest_median_rating_category = median_rating_by_category.idxmax()\n",
    "highest_median_rating = median_rating_by_category.max()\n",
    "\n",
    "print(f\"The product category with the highest median rating is '{highest_median_rating_category}' with a median rating of {highest_median_rating:.2f}\")"
   ]
  },
  {
   "cell_type": "code",
   "execution_count": null,
   "metadata": {},
   "outputs": [],
   "source": [
    "# Create the box plot for ratings across the top 10 categories\n",
    "plt.figure(figsize=(12, 8))\n",
    "sns.boxplot(x='category', y='stars', data=top_10_data_no_outliers, hue='category', palette='muted', legend=False)\n",
    "\n",
    "# Customize the plot\n",
    "plt.title('Distribution of Ratings Across Top 10 Categories', fontsize=16)\n",
    "plt.xlabel('Product Category', fontsize=12)\n",
    "plt.ylabel('Product Rating (Stars)', fontsize=12)\n",
    "plt.xticks(rotation=45)  # Rotate x-axis labels for better readability\n",
    "plt.tight_layout()\n",
    "\n",
    "# Show the plot\n",
    "plt.show()"
   ]
  },
  {
   "cell_type": "markdown",
   "metadata": {},
   "source": [
    "Part 3: Investigating the Interplay Between Product Prices and Ratings"
   ]
  },
  {
   "cell_type": "markdown",
   "metadata": {},
   "source": [
    "1. Correlation coefficients"
   ]
  },
  {
   "cell_type": "code",
   "execution_count": null,
   "metadata": {},
   "outputs": [],
   "source": [
    "# Calculate the Pearson correlation coefficient between 'price' and 'stars'\n",
    "correlation = amz_df_no_outliers['price'].corr(amz_df_no_outliers['stars'])\n",
    "\n",
    "# Display the correlation value\n",
    "print(f\"The correlation coefficient between product price and rating is: {correlation:.2f}\")"
   ]
  },
  {
   "cell_type": "markdown",
   "metadata": {},
   "source": [
    "Weak Negative Correlation: Since the value is close to 0, it suggests that price and rating are not strongly related. The negative sign means that, in a very weak way, as the price increases, ratings tend to slightly decrease (or vice versa). However, this is very weak and likely not meaningful in practical terms."
   ]
  },
  {
   "cell_type": "markdown",
   "metadata": {},
   "source": [
    "Visualisations"
   ]
  },
  {
   "cell_type": "code",
   "execution_count": null,
   "metadata": {},
   "outputs": [],
   "source": [
    "# Scatter plot with Price on Y-axis and Rating on X-axis\n",
    "plt.figure(figsize=(10, 6))\n",
    "sns.scatterplot(data=amz_df_no_outliers, x='stars', y='price', alpha=0.5)\n",
    "\n",
    "# Customize the plot\n",
    "plt.title('Scatter Plot: Price vs Rating (Stars)', fontsize=16)\n",
    "plt.xlabel('Rating (Stars)', fontsize=12)\n",
    "plt.ylabel('Price', fontsize=12)\n",
    "plt.tight_layout()\n",
    "\n",
    "# Show the plot\n",
    "plt.show()"
   ]
  },
  {
   "cell_type": "code",
   "execution_count": null,
   "metadata": {},
   "outputs": [],
   "source": [
    "# Log-transform the price\n",
    "amz_df_no_outliers['log_price'] = np.log1p(amz_df_no_outliers['price'])\n",
    "\n",
    "# Scatter plot with log-transformed Price on Y-axis and Rating on X-axis\n",
    "plt.figure(figsize=(10, 6))\n",
    "sns.scatterplot(data=amz_df_no_outliers, x='stars', y='log_price', alpha=0.5)\n",
    "\n",
    "# Customize the plot\n",
    "plt.title('Scatter Plot: Log-transformed Price vs Rating (Stars)', fontsize=16)\n",
    "plt.xlabel('Rating (Stars)', fontsize=12)\n",
    "plt.ylabel('Log-transformed Price', fontsize=12)\n",
    "plt.tight_layout()\n",
    "\n",
    "# Show the plot\n",
    "plt.show()"
   ]
  },
  {
   "cell_type": "markdown",
   "metadata": {},
   "source": [
    "The heatmap"
   ]
  },
  {
   "cell_type": "code",
   "execution_count": null,
   "metadata": {},
   "outputs": [],
   "source": [
    "# Select numerical columns from the DataFrame\n",
    "numerical_cols = amz_df_no_outliers.select_dtypes(include=['float64', 'int64']).columns\n",
    "\n",
    "# Calculate the correlation matrix for the numerical variables\n",
    "correlation_matrix = amz_df_no_outliers[numerical_cols].corr()\n",
    "\n",
    "# Create the heatmap\n",
    "plt.figure(figsize=(12, 8))\n",
    "sns.heatmap(correlation_matrix, annot=True, cmap='coolwarm', fmt='.2f', cbar=True, square=True, linewidths=0.5)\n",
    "\n",
    "# Customize the plot\n",
    "plt.title('Correlation Heatmap of Numerical Variables', fontsize=16)\n",
    "plt.tight_layout()\n",
    "\n",
    "# Show the plot\n",
    "plt.show()"
   ]
  },
  {
   "cell_type": "markdown",
   "metadata": {},
   "source": [
    "QQ Plot"
   ]
  },
  {
   "cell_type": "code",
   "execution_count": null,
   "metadata": {},
   "outputs": [],
   "source": [
    "# Create a QQ plot to check if prices follow a normal distribution\n",
    "plt.figure(figsize=(8, 6))\n",
    "stats.probplot(amz_df_no_outliers['price'], dist=\"norm\", plot=plt)\n",
    "\n",
    "# Customize the plot\n",
    "plt.title('QQ Plot: Checking if Product Prices Follow a Normal Distribution', fontsize=16)\n",
    "plt.tight_layout()\n",
    "\n",
    "# Show the plot\n",
    "plt.show()"
   ]
  }
 ],
 "metadata": {
  "language_info": {
   "name": "python"
  }
 },
 "nbformat": 4,
 "nbformat_minor": 2
}
